{
 "cells": [
  {
   "cell_type": "code",
   "execution_count": 1,
   "id": "89c54c27",
   "metadata": {},
   "outputs": [
    {
     "name": "stderr",
     "output_type": "stream",
     "text": [
      "[nltk_data] Downloading package names to\n",
      "[nltk_data]     /Users/lizjohnson/nltk_data...\n",
      "[nltk_data]   Package names is already up-to-date!\n",
      "[nltk_data] Downloading package stopwords to\n",
      "[nltk_data]     /Users/lizjohnson/nltk_data...\n",
      "[nltk_data]   Package stopwords is already up-to-date!\n",
      "[nltk_data] Downloading package averaged_perceptron_tagger to\n",
      "[nltk_data]     /Users/lizjohnson/nltk_data...\n",
      "[nltk_data]   Package averaged_perceptron_tagger is already up-to-\n",
      "[nltk_data]       date!\n",
      "[nltk_data] Downloading package vader_lexicon to\n",
      "[nltk_data]     /Users/lizjohnson/nltk_data...\n",
      "[nltk_data]   Package vader_lexicon is already up-to-date!\n",
      "[nltk_data] Downloading package punkt to\n",
      "[nltk_data]     /Users/lizjohnson/nltk_data...\n",
      "[nltk_data]   Package punkt is already up-to-date!\n",
      "[nltk_data] Downloading package wordnet to\n",
      "[nltk_data]     /Users/lizjohnson/nltk_data...\n",
      "[nltk_data]   Package wordnet is already up-to-date!\n"
     ]
    }
   ],
   "source": [
    "#import packages\n",
    "import pandas as pd\n",
    "import requests\n",
    "import numpy as np\n",
    "import matplotlib\n",
    "import matplotlib.pyplot as plt\n",
    "import seaborn as sns\n",
    "import urllib.request, json\n",
    "import requests\n",
    "import urllib.parse\n",
    "import datetime\n",
    "import nltk\n",
    "nltk.download([\n",
    "        \"names\",\n",
    "        \"stopwords\",\n",
    "        \"averaged_perceptron_tagger\",\n",
    "        \"vader_lexicon\",\n",
    "        \"punkt\",\n",
    "        'wordnet'])\n",
    "from nltk.tokenize import sent_tokenize, word_tokenize\n",
    "from nltk.stem import PorterStemmer\n",
    "from nltk.stem.wordnet import WordNetLemmatizer\n",
    "import re, string\n",
    "\n",
    "import warnings\n",
    "warnings.filterwarnings('ignore')"
   ]
  },
  {
   "cell_type": "code",
   "execution_count": 2,
   "id": "caf46cef",
   "metadata": {},
   "outputs": [],
   "source": [
    "def get_data(url, uniqueid, startdatetime, enddatetime, cat_clnm, subcat_clnm, subsubcat_clnm, datetime_clnm):\n",
    "    '''\n",
    "    Inputs: \n",
    "    url - string value of SODA API url\n",
    "    startdatetime & enddatetime - string values of the format 'YYYY-MM-DDTHH:MM:SS', i.e. '2019-12-31T23:59:59.000' \n",
    "                                for the beginning and end of timeframe of interest\n",
    "    datetime_clnm - string value of the column name in the data for the datetime of complaint inquiry\n",
    "    \n",
    "    Output:\n",
    "    gdf - GeoDataFrame of 311 inquiries. Geometry is point location of 311 inquiry.\n",
    "    '''\n",
    "    query = (url +'?'\n",
    "            \"$select= count(*) as count,%s as cat, %s as subcat, %s as subsubcat\"\n",
    "            \"&$where=%s between '\"+startdatetime+\"' and '\"+enddatetime+\"'\"\n",
    "            \"&$group=cat,subcat,subsubcat\"\n",
    "            \"&$order=count DESC\"\n",
    "            \"&$limit=500000\"\n",
    "            )%(cat_clnm,subcat_clnm,subsubcat_clnm,datetime_clnm)\n",
    "    query = query.replace(\" \", \"%20\")\n",
    "    print(query)\n",
    "    response = urllib.request.urlopen(query)\n",
    "    data = json.loads(response.read())\n",
    "    \n",
    "    return data"
   ]
  },
  {
   "cell_type": "code",
   "execution_count": 3,
   "id": "d0b7ab0a",
   "metadata": {},
   "outputs": [
    {
     "name": "stdout",
     "output_type": "stream",
     "text": [
      "https://data.cityofnewyork.us/resource/erm2-nwe9.json?$select=%20count(*)%20as%20count,agency_name%20as%20cat,%20complaint_type%20as%20subcat,%20descriptor%20as%20subsubcat&$where=created_date%20between%20'2019-01-01T00:00:00.000'%20and%20'2020-01-01T00:00:00.000'&$group=cat,subcat,subsubcat&$order=count%20DESC&$limit=500000\n"
     ]
    }
   ],
   "source": [
    "all311 = 'https://data.cityofnewyork.us/resource/erm2-nwe9.json'\n",
    "uniqueid = 'unique_key'\n",
    "cat_clnm = 'agency_name'\n",
    "subcat_clnm = 'complaint_type'\n",
    "subsubcat_clnm = 'descriptor'\n",
    "datetime_clnm = 'created_date'\n",
    "\n",
    "data = get_data(all311, uniqueid, '2019-01-01T00:00:00.000', '2020-01-01T00:00:00.000', cat_clnm, subcat_clnm, subsubcat_clnm, datetime_clnm)"
   ]
  },
  {
   "cell_type": "code",
   "execution_count": 4,
   "id": "192e7a82",
   "metadata": {},
   "outputs": [
    {
     "data": {
      "text/html": [
       "<div>\n",
       "<style scoped>\n",
       "    .dataframe tbody tr th:only-of-type {\n",
       "        vertical-align: middle;\n",
       "    }\n",
       "\n",
       "    .dataframe tbody tr th {\n",
       "        vertical-align: top;\n",
       "    }\n",
       "\n",
       "    .dataframe thead th {\n",
       "        text-align: right;\n",
       "    }\n",
       "</style>\n",
       "<table border=\"1\" class=\"dataframe\">\n",
       "  <thead>\n",
       "    <tr style=\"text-align: right;\">\n",
       "      <th></th>\n",
       "      <th>count</th>\n",
       "      <th>cat</th>\n",
       "      <th>subcat</th>\n",
       "      <th>subsubcat</th>\n",
       "    </tr>\n",
       "  </thead>\n",
       "  <tbody>\n",
       "    <tr>\n",
       "      <th>0</th>\n",
       "      <td>214808</td>\n",
       "      <td>Department of Sanitation</td>\n",
       "      <td>Request Large Bulky Item Collection</td>\n",
       "      <td>Request Large Bulky Item Collection</td>\n",
       "    </tr>\n",
       "    <tr>\n",
       "      <th>1</th>\n",
       "      <td>147964</td>\n",
       "      <td>New York City Police Department</td>\n",
       "      <td>Noise - Residential</td>\n",
       "      <td>Loud Music/Party</td>\n",
       "    </tr>\n",
       "    <tr>\n",
       "      <th>2</th>\n",
       "      <td>137887</td>\n",
       "      <td>Department of Housing Preservation and Develop...</td>\n",
       "      <td>HEAT/HOT WATER</td>\n",
       "      <td>ENTIRE BUILDING</td>\n",
       "    </tr>\n",
       "    <tr>\n",
       "      <th>3</th>\n",
       "      <td>98815</td>\n",
       "      <td>New York City Police Department</td>\n",
       "      <td>Blocked Driveway</td>\n",
       "      <td>No Access</td>\n",
       "    </tr>\n",
       "    <tr>\n",
       "      <th>4</th>\n",
       "      <td>77815</td>\n",
       "      <td>New York City Police Department</td>\n",
       "      <td>Noise - Street/Sidewalk</td>\n",
       "      <td>Loud Music/Party</td>\n",
       "    </tr>\n",
       "  </tbody>\n",
       "</table>\n",
       "</div>"
      ],
      "text/plain": [
       "    count                                                cat  \\\n",
       "0  214808                           Department of Sanitation   \n",
       "1  147964                    New York City Police Department   \n",
       "2  137887  Department of Housing Preservation and Develop...   \n",
       "3   98815                    New York City Police Department   \n",
       "4   77815                    New York City Police Department   \n",
       "\n",
       "                                subcat                            subsubcat  \n",
       "0  Request Large Bulky Item Collection  Request Large Bulky Item Collection  \n",
       "1                  Noise - Residential                     Loud Music/Party  \n",
       "2                       HEAT/HOT WATER                      ENTIRE BUILDING  \n",
       "3                     Blocked Driveway                            No Access  \n",
       "4              Noise - Street/Sidewalk                     Loud Music/Party  "
      ]
     },
     "execution_count": 4,
     "metadata": {},
     "output_type": "execute_result"
    }
   ],
   "source": [
    "all_df = pd.DataFrame(data, columns = data[0].keys())\n",
    "all_df.head()"
   ]
  },
  {
   "cell_type": "code",
   "execution_count": 5,
   "id": "196019c8",
   "metadata": {},
   "outputs": [
    {
     "data": {
      "text/html": [
       "<div>\n",
       "<style scoped>\n",
       "    .dataframe tbody tr th:only-of-type {\n",
       "        vertical-align: middle;\n",
       "    }\n",
       "\n",
       "    .dataframe tbody tr th {\n",
       "        vertical-align: top;\n",
       "    }\n",
       "\n",
       "    .dataframe thead th {\n",
       "        text-align: right;\n",
       "    }\n",
       "</style>\n",
       "<table border=\"1\" class=\"dataframe\">\n",
       "  <thead>\n",
       "    <tr style=\"text-align: right;\">\n",
       "      <th></th>\n",
       "      <th>count</th>\n",
       "      <th>cat</th>\n",
       "      <th>subcat</th>\n",
       "      <th>subsubcat</th>\n",
       "      <th>combined_cats</th>\n",
       "      <th>combined_cats_lower</th>\n",
       "      <th>processed_comps</th>\n",
       "      <th>sentiment_scores</th>\n",
       "      <th>neg</th>\n",
       "      <th>neu</th>\n",
       "      <th>pos</th>\n",
       "      <th>compound</th>\n",
       "    </tr>\n",
       "  </thead>\n",
       "  <tbody>\n",
       "    <tr>\n",
       "      <th>0</th>\n",
       "      <td>84545</td>\n",
       "      <td>Department of Finance</td>\n",
       "      <td>Parking Ticket Lookup - Ticket or Plate Number...</td>\n",
       "      <td>Status of a parking ticket. Must know ticket o...</td>\n",
       "      <td>Department of Finance Parking Ticket Lookup - ...</td>\n",
       "      <td>department of finance parking ticket lookup - ...</td>\n",
       "      <td>department finance parking vehicles ticket loo...</td>\n",
       "      <td>{'neg': 0.0, 'neu': 0.874, 'pos': 0.126, 'comp...</td>\n",
       "      <td>0.000</td>\n",
       "      <td>0.874</td>\n",
       "      <td>0.126</td>\n",
       "      <td>0.1531</td>\n",
       "    </tr>\n",
       "    <tr>\n",
       "      <th>1</th>\n",
       "      <td>76516</td>\n",
       "      <td>3-1-1 Call Center</td>\n",
       "      <td>Service Request Status - General</td>\n",
       "      <td>Status of most Service Requests filed with 311.</td>\n",
       "      <td>3-1-1 Call Center Service Request Status - Gen...</td>\n",
       "      <td>3-1-1 call center service request status - gen...</td>\n",
       "      <td>call center service request status general sta...</td>\n",
       "      <td>{'neg': 0.0, 'neu': 1.0, 'pos': 0.0, 'compound...</td>\n",
       "      <td>0.000</td>\n",
       "      <td>1.000</td>\n",
       "      <td>0.000</td>\n",
       "      <td>0.0000</td>\n",
       "    </tr>\n",
       "    <tr>\n",
       "      <th>2</th>\n",
       "      <td>60523</td>\n",
       "      <td>Department of Finance</td>\n",
       "      <td>Property Tax Account Assistance and Bill Infor...</td>\n",
       "      <td>Help with questions about the property tax bil...</td>\n",
       "      <td>Department of Finance Property Tax Account Ass...</td>\n",
       "      <td>department of finance property tax account ass...</td>\n",
       "      <td>department finance property building tax accou...</td>\n",
       "      <td>{'neg': 0.0, 'neu': 0.876, 'pos': 0.124, 'comp...</td>\n",
       "      <td>0.000</td>\n",
       "      <td>0.876</td>\n",
       "      <td>0.124</td>\n",
       "      <td>0.4019</td>\n",
       "    </tr>\n",
       "    <tr>\n",
       "      <th>3</th>\n",
       "      <td>57674</td>\n",
       "      <td>NaN</td>\n",
       "      <td>Bulk Item Disposal</td>\n",
       "      <td>Learn how to get rid of bulk items. Schedule, ...</td>\n",
       "      <td>Bulk Item Disposal Learn how to get rid of bu...</td>\n",
       "      <td>bulk item disposal learn how to get rid of bu...</td>\n",
       "      <td>bulk item disposal learn get rid bulk items sc...</td>\n",
       "      <td>{'neg': 0.111, 'neu': 0.889, 'pos': 0.0, 'comp...</td>\n",
       "      <td>0.111</td>\n",
       "      <td>0.889</td>\n",
       "      <td>0.000</td>\n",
       "      <td>-0.2500</td>\n",
       "    </tr>\n",
       "    <tr>\n",
       "      <th>4</th>\n",
       "      <td>57213</td>\n",
       "      <td>NaN</td>\n",
       "      <td>Heat or Hot Water Complaint in a Residential B...</td>\n",
       "      <td>Report a problem with heat or hot water in a r...</td>\n",
       "      <td>Heat or Hot Water Complaint in a Residential ...</td>\n",
       "      <td>heat or hot water complaint in a residential ...</td>\n",
       "      <td>heat hot water complaint residential building ...</td>\n",
       "      <td>{'neg': 0.308, 'neu': 0.692, 'pos': 0.0, 'comp...</td>\n",
       "      <td>0.308</td>\n",
       "      <td>0.692</td>\n",
       "      <td>0.000</td>\n",
       "      <td>-0.5994</td>\n",
       "    </tr>\n",
       "  </tbody>\n",
       "</table>\n",
       "</div>"
      ],
      "text/plain": [
       "   count                    cat  \\\n",
       "0  84545  Department of Finance   \n",
       "1  76516      3-1-1 Call Center   \n",
       "2  60523  Department of Finance   \n",
       "3  57674                    NaN   \n",
       "4  57213                    NaN   \n",
       "\n",
       "                                              subcat  \\\n",
       "0  Parking Ticket Lookup - Ticket or Plate Number...   \n",
       "1                   Service Request Status - General   \n",
       "2  Property Tax Account Assistance and Bill Infor...   \n",
       "3                                 Bulk Item Disposal   \n",
       "4  Heat or Hot Water Complaint in a Residential B...   \n",
       "\n",
       "                                           subsubcat  \\\n",
       "0  Status of a parking ticket. Must know ticket o...   \n",
       "1    Status of most Service Requests filed with 311.   \n",
       "2  Help with questions about the property tax bil...   \n",
       "3  Learn how to get rid of bulk items. Schedule, ...   \n",
       "4  Report a problem with heat or hot water in a r...   \n",
       "\n",
       "                                       combined_cats  \\\n",
       "0  Department of Finance Parking Ticket Lookup - ...   \n",
       "1  3-1-1 Call Center Service Request Status - Gen...   \n",
       "2  Department of Finance Property Tax Account Ass...   \n",
       "3   Bulk Item Disposal Learn how to get rid of bu...   \n",
       "4   Heat or Hot Water Complaint in a Residential ...   \n",
       "\n",
       "                                 combined_cats_lower  \\\n",
       "0  department of finance parking ticket lookup - ...   \n",
       "1  3-1-1 call center service request status - gen...   \n",
       "2  department of finance property tax account ass...   \n",
       "3   bulk item disposal learn how to get rid of bu...   \n",
       "4   heat or hot water complaint in a residential ...   \n",
       "\n",
       "                                     processed_comps  \\\n",
       "0  department finance parking vehicles ticket loo...   \n",
       "1  call center service request status general sta...   \n",
       "2  department finance property building tax accou...   \n",
       "3  bulk item disposal learn get rid bulk items sc...   \n",
       "4  heat hot water complaint residential building ...   \n",
       "\n",
       "                                    sentiment_scores    neg    neu    pos  \\\n",
       "0  {'neg': 0.0, 'neu': 0.874, 'pos': 0.126, 'comp...  0.000  0.874  0.126   \n",
       "1  {'neg': 0.0, 'neu': 1.0, 'pos': 0.0, 'compound...  0.000  1.000  0.000   \n",
       "2  {'neg': 0.0, 'neu': 0.876, 'pos': 0.124, 'comp...  0.000  0.876  0.124   \n",
       "3  {'neg': 0.111, 'neu': 0.889, 'pos': 0.0, 'comp...  0.111  0.889  0.000   \n",
       "4  {'neg': 0.308, 'neu': 0.692, 'pos': 0.0, 'comp...  0.308  0.692  0.000   \n",
       "\n",
       "   compound  \n",
       "0    0.1531  \n",
       "1    0.0000  \n",
       "2    0.4019  \n",
       "3   -0.2500  \n",
       "4   -0.5994  "
      ]
     },
     "execution_count": 5,
     "metadata": {},
     "output_type": "execute_result"
    }
   ],
   "source": [
    "calls = pd.read_csv('../Outputs/311calls_complaints_vadar_results.csv', index_col = 0)\n",
    "calls.head()"
   ]
  },
  {
   "cell_type": "code",
   "execution_count": 6,
   "id": "a3d1622c",
   "metadata": {},
   "outputs": [
    {
     "data": {
      "text/plain": [
       "5424"
      ]
     },
     "execution_count": 6,
     "metadata": {},
     "output_type": "execute_result"
    }
   ],
   "source": [
    "len(calls.subcat.unique())"
   ]
  },
  {
   "cell_type": "code",
   "execution_count": 7,
   "id": "571f8dba",
   "metadata": {},
   "outputs": [
    {
     "data": {
      "text/plain": [
       "370"
      ]
     },
     "execution_count": 7,
     "metadata": {},
     "output_type": "execute_result"
    }
   ],
   "source": [
    "len(all_df.subcat.unique())"
   ]
  },
  {
   "cell_type": "code",
   "execution_count": 8,
   "id": "f72b1af8",
   "metadata": {},
   "outputs": [],
   "source": [
    "all_df['subcat'] = all_df['subcat'].str.strip().str.lower()\n",
    "all_df['subcat'] = all_df['subcat'].replace('fatf','financial action task force')\n",
    "all_df['subcat'] = all_df['subcat'].replace('fcst','weather forcast')\n",
    "all_df['subcat'] = all_df['subcat'].replace('atf','bureau of alcohol, tabacco, and firearms')\n",
    "\n",
    "complaints = all_df['subcat'].str.lower().unique().tolist()"
   ]
  },
  {
   "cell_type": "code",
   "execution_count": 9,
   "id": "1aadeea2",
   "metadata": {},
   "outputs": [],
   "source": [
    "calls['subcat'] = calls['subcat'].str.strip().str.lower()\n",
    "calls['subcat'] = calls['subcat'].replace('fatf','financial action task force')\n",
    "calls['subcat'] = calls['subcat'].replace('fcst','weather forcast')\n",
    "calls['subcat'] = calls['subcat'].replace('atf','bureau of alcohol, tabacco, and firearms')"
   ]
  },
  {
   "cell_type": "code",
   "execution_count": 10,
   "id": "3714e451",
   "metadata": {},
   "outputs": [
    {
     "name": "stdout",
     "output_type": "stream",
     "text": [
      "5423\n"
     ]
    }
   ],
   "source": [
    "raw_complaints = calls['subcat'].unique().tolist()\n",
    "print(len(raw_complaints))"
   ]
  },
  {
   "cell_type": "code",
   "execution_count": 11,
   "id": "60160228",
   "metadata": {},
   "outputs": [],
   "source": [
    "remove =['research questions', 'msother', '../../../web-inf/web.xml;x=', '%c0%ae/%c0%ae/web-inf/web.xml',\n",
    "         '../../web-inf/web.xml;x=', '.../....///.../....///.../....', '%2fetc%2fpasswd', '../../web-inf/web.xml',\n",
    "         '%c0%ae/%c0%ae/%c0%ae/%c0%ae...', '%e5%98%8a%e5%98%8dx-injecti...', '../web-inf/web.xml;x=',\n",
    "         '%c0%ae/%c0%ae/%c0%ae/web-in...', '%c0%ae/web-inf/web.xml', '.../...//.../...//.../...//...',\n",
    "         'bcd9&lt;!--esi--&gt;1ggp&lt...', '%{(#dm=@ognl.ognlcontext@de...', '../web-inf/web.xml',\n",
    "         '../../../web-inf/web.xml', '../../../../web-inf/web.xml', \"{!xmlparser v='&lt;!doctype...\",\n",
    "         'file:///etc/passwd', \"a'a\\\\'b&quot;c&gt;?&gt;%}}%%...\", '@(9313*3464)', \"kawn''lcgv\", '1430*4963',\n",
    "         '() { _; } &gt;_', '${3804*3137}', '() { :;}; /bin/sleep 0', \"misc. comments'+(function()...\",\n",
    "         '`sleep 11`', \"&quot;--&gt;'--&gt;`--&gt;&...\", '%{4761*8506}', '() { :;}; /bin/sleep 11', '$(sleep 11)',\n",
    "         'misc. comments&gt;  bcc:bl0...', 'misc. comments  bcc:a5glxzf...', '*)(!(objectclass=*)',\n",
    "         'idexf3mrb7)(!(objectclass=*)', '*)(objectclass=*', '&lt;vlv xmlns=&quot;http://...',\n",
    "         '&lt;odb xmlns:xi=&quot;http...', 'misc. comments]]&gt;&gt;&lt;', 'g0oii1s4s5)(objectclass=*',\n",
    "         'misc. comments../../../../....', '/./validate_form.php', './validate_form.php',\n",
    "         '../../../../../../../../../...', '.../misc. comments', '..\\\\..\\\\..\\\\..\\\\..\\\\..\\\\..\\\\..\\\\..\\\\...',\n",
    "         '..././..././..././..././......', '%2e%2e%2f%2e%2e%2f%2e%2e%2f...', '/etc/passwd',\n",
    "         'misc. comments..\\\\..\\\\..\\\\..\\\\....', 'c:\\\\windows\\\\win.ini misc. co...', '%2e%2e%5c%2e%2e%5c%2e%2e%5c...',\n",
    "         '...\\\\./...\\\\./...\\\\./...\\\\./......', 'ztestint', 'zsystest', 'select message type...', '\\\\windows\\\\win.ini',\n",
    "         '...\\\\.\\\\...\\\\.\\\\...\\\\.\\\\...\\\\.\\\\......', 'file:///c:/windows/win.ini', \"misc. comments'|ping -c 21 ...\",\n",
    "         '.../.\\\\.../.\\\\.../.\\\\.../.\\\\......', 'c:\\\\windows\\\\win.ini', \"misc. comments'|echo y9v6fc...\",\n",
    "         'misc. comments|ping -c 21 1...', 'misc. comments&amp;ping -n ...', 'misc. comments|echo 3p7wexz...',\n",
    "         'misc. comments|ping -n 21 1...', 'misc. comments&quot;|ping -...', 'misc. comments&amp;echo xjd...',\n",
    "         'misc. comments&amp;nslookup...', 'misc. comments&quot;|echo 2...', \"misc. comments'&quot;`0&amp...\", \n",
    "         'misc. comments|nslookup -q=...', \"misc. comments'.sleep(20).'\", '266dyrgvhg1egsyp2oq57axbm2s...',\n",
    "         'http://g7orz5h9iu2sh6z332rj...', 'misc. comments{${sleep(20)}}', 'nslookup -q=cname nneyfcxgy...',\n",
    "         \"eval(compile('for x in rang...\", 'yw97y0gi2s', \"misc. comments'+sleep(20.to...\", 'hcvn1{{687*375}}gji51',\n",
    "         \"misc. comments'+eval(compil...\", \"misc. comments%}dt2pq'/&quo...\", \"misc. comments}}t2v95'/&quo...\",\n",
    "         'misc. commentso0w3r%&gt;xb6...', 'misc. comments&quot;', 'misc. commentseowljujfh8',\n",
    "         \"misc. comments' and 6049=60...\", \"misc. comments' and 7702=77...\", \"misc. comments' and '1618'=...\",\n",
    "         \"misc. comments')waitfor del...\", 'qfix4${695*589}lixaf', \"misc. comments',0)waitfor d...\",\n",
    "         \"misc. comments' and '7835'=...\", \"misc. comments47876391' or ...\", \"misc. comments' and (select...\",\n",
    "         \"misc. comments52038737' or ...\", \"misc. comments' waitfor del...\", \"misc. comments88909845' or ...\",\n",
    "         \"misc. comments69075347' or ...\", \"misc. comments'+(select*fro...\", 'misc. comments,(select*from...',\n",
    "         \"misc. comments'(select*from...\", \"misc. comments');declare @q...\", \"misc. comments'+(select loa...\",\n",
    "         \"misc. comments'\", \"(select load_file('\\\\\\\\\\\\\\\\615h...\", 'misc. comments);declare @q ...',\n",
    "         \"misc. comments';declare @q ...\", '(select extractvalue(xmltyp...', \"misc. comments'||(select ex...\", \n",
    "         'misc. comments;declare @q v...']\n",
    "\n",
    "comp_dict_final = {'noise': ['noise - residential','noise survey', 'noise - commercial', 'noise - helicopter', 'collection truck noise', 'noise - vehicle', 'noise - house of worship', 'noise', 'noise - park', 'noise - street/sidewalk'],\n",
    "                   'taxi complaints & inquiries': ['green taxi complaint', 'green taxi report', 'taxi compliment', 'dispatched taxi compliment', 'dispatched taxi complaint', 'for hire vehicle complaint', 'taxi complaint', 'taxi licensee complaint', 'taxi report', 'fhv licensee complaint', 'for hire vehicle report'],\n",
    "                   'homelessness': ['homeless person assistance', 'homeless street condition', 'encampment', 'homeless encampment'],\n",
    "                   'plaster/paint': ['paint/plaster','peeling paint', 'paint - plaster'],\n",
    "                   'street/sidewalk/road condition': ['street condition', 'dep street condition', 'street light condition', 'root/sewer/sidewalk condition', 'dep sidewalk condition', 'dep bridge condition', 'curb condition', 'lot condition'],\n",
    "                   'animal abuse': ['animal abuse', 'animal-abuse'],\n",
    "                   'dead or damaged tree': ['dead tree', 'damaged tree', 'dead/dying tree'],\n",
    "                   'waste & bulky item collection': ['institution disposal complaint', 'missed collection', 'missed collection (all materials)', 'residential disposal complaint', 'electronics waste appointment', 'seasonal collection', 'request large bulky item collection', 'request xmas tree collection', 'electronics waste'],\n",
    "                   'litter basket complaints & inquiries': ['overflowing litter baskets', 'litter basket request', 'litter basket / request', 'litter basket complaint'],\n",
    "                   'recycling basket complaints': ['recycling basket complaint', 'overflowing recycling baskets'],\n",
    "                   'literature request': ['literature request', 'oem literature request', 'dor literature request', 'dof literature request', 'hpd literature request'], \n",
    "                   'hazardous materials': ['radioactive material', 'hazardous material', 'hazardous materials'],\n",
    "                   'broken parking meter': ['broken parking meter', 'broken muni meter'],\n",
    "                   'street sign complaints': ['highway sign - missing', 'highway sign - damaged', 'highway sign - dangling', 'street sign - dangling', 'street sign - missing', 'street sign - damaged'], \n",
    "                   'derelict vehicles': ['derelict vehicle', 'derelict vehicles'], \n",
    "                   'bus stop shelter complaint': ['bus stop shelter complaint', 'bus stop shelter placement'],\n",
    "                   'illegal animal - sold/kept': ['illegal animal - sold/kept', 'illegal animal sold', 'illegal animal kept as pet'],\n",
    "                   'home delivered meal complaint': ['home delivered meal - missed delivery', 'home delivered meal complaint'],\n",
    "                   \"building marshal's office\": [\"building marshal's office\", 'building marshals office'],\n",
    "                   'street sweeping complaint': ['sweeping/missed', 'sweeping/missed-inadequate', 'sweeping/inadequate'],\n",
    "                   'fire alarm serive requests': ['fire alarm - new system', 'fire alarm - modification', 'fire alarm - reinspection', 'fire alarm - replacement'],\n",
    "                   'general inquiry': ['general question', 'comments', 'general'],\n",
    "                   'dof property complaints & inquiries': ['dof property - owner issue', 'dof property - update account', 'dof property - rpie issue', 'dof property - city rebate', 'dof property - reduction issue', 'dof property - payment issue', 'dof property - property value', 'dof property - request copy', 'dof property - state rebate'], \n",
    "                   'public advocate request': ['advocate - other', 'advocate-prop class incorrect', 'advocate-scrie/drie', 'advocate-prop refunds/credits', 'advocate-business tax', 'advocate-co-opcondo abatement', 'advocate-foreclosure', 'advocate - rpie', 'advocate - levy', 'advocate-commercial exemptions', 'advocate-personal exemptions', 'advocate-ubt', 'advocate - lien', 'advocate-property value'],\n",
    "                   'dof parking requests': ['dof parking - payment issue', 'dof parking - request status', 'dof parking - request copy', 'dof parking - dmv clearance', 'dof parking - address update', 'dof parking - tax exemption'],\n",
    "                   'public assembly': ['public assembly - temporary', 'public assembly'], \n",
    "                   'dhs advantage program inquiries': ['dhs advantage - tenant', 'dhs advantage - third party', 'dhs advantage -landlord/broker'],\n",
    "                   'construction': ['general construction', 'construction'],\n",
    "                   'electrical': ['electric', 'electrical'],\n",
    "                   'unsanitary condition': ['unsanitary condition'],\n",
    "                   'asbestos': ['asbestos', 'asbestos/garbage nuisance'],\n",
    "                   'dirty conditions': ['dirty condition', 'dirty conditions'],\n",
    "                  'snow' : ['snow','snw','snow or ice','snow removal'],\n",
    "                  'ferry complaints & inquiries':['ferry inquiry','ferry permit','ferry complaint'],\n",
    "                  'building facade complaints & inquiries':['facade insp safety pgm','facades']}"
   ]
  },
  {
   "cell_type": "code",
   "execution_count": 49,
   "id": "4bd4a12a",
   "metadata": {},
   "outputs": [
    {
     "name": "stdout",
     "output_type": "stream",
     "text": [
      "{'nois': ['nois residenti', 'nois survey', 'nois commerci', 'nois helicopt', 'collection truck nois', 'nois vehicl', 'nois house worship', 'nois', 'nois park', 'nois street sidewalk'], 'taxi complaints inquiri': ['green taxi complaint', 'green taxi report', 'taxi compli', 'dispatched taxi compli', 'dispatched taxi complaint', 'hire vehicle complaint', 'taxi complaint', 'taxi licensee complaint', 'taxi report', 'fhv licensee complaint', 'hire vehicle report'], 'homeless': ['homeless person assist', 'homeless street condit', 'encamp', 'homeless encamp'], 'plaster paint': ['paint plast', 'peeling paint', 'paint plast'], 'street sidewalk road condit': ['street condit', 'dep street condit', 'street light condit', 'root sewer sidewalk condit', 'dep sidewalk condit', 'dep bridge condit', 'curb condit', 'lot condit'], 'animal abus': ['animal abus', 'animal abus'], 'dead damaged tre': ['dead tre', 'damaged tre', 'dead dying tre'], 'waste bulky item collect': ['institution disposal complaint', 'missed collect', 'missed collection materi', 'residential disposal complaint', 'electronics waste appoint', 'seasonal collect', 'request large bulky item collect', 'request xmas tree collect', 'electronics wast'], 'litter basket complaints inquiri': ['overflowing litter basket', 'litter basket request', 'litter basket request', 'litter basket complaint'], 'recycling basket complaint': ['recycling basket complaint', 'overflowing recycling basket'], 'literature request': ['literature request', 'oem literature request', 'dor literature request', 'dof literature request', 'hpd literature request'], 'hazardous materi': ['radioactive materi', 'hazardous materi', 'hazardous materi'], 'broken parking met': ['broken parking met', 'broken muni met'], 'street sign complaint': ['highway sign miss', 'highway sign damag', 'highway sign dangl', 'street sign dangl', 'street sign miss', 'street sign damag'], 'derelict vehicl': ['derelict vehicl', 'derelict vehicl'], 'bus stop shelter complaint': ['bus stop shelter complaint', 'bus stop shelter plac'], 'illegal animal sold kept': ['illegal animal sold kept', 'illegal animal sold', 'illegal animal kept pet'], 'home delivered meal complaint': ['home delivered meal missed deliveri', 'home delivered meal complaint'], 'building marshals offic': ['building marshals offic', 'building marshals offic'], 'street sweeping complaint': ['sweeping miss', 'sweeping missed inadequ', 'sweeping inadequ'], 'fire alarm serive request': ['fire alarm new system', 'fire alarm modif', 'fire alarm reinspect', 'fire alarm replac'], 'general inquiri': ['general quest', 'comment', 'gener'], 'dof property complaints inquiri': ['dof property owner issu', 'dof property update account', 'dof property rpie issu', 'dof property city reb', 'dof property reduction issu', 'dof property payment issu', 'dof property property valu', 'dof property request copi', 'dof property state reb'], 'public advocate request': ['advocate oth', 'advocate prop class incorrect', 'advocate scrie dri', 'advocate prop refunds credit', 'advocate business tax', 'advocate co opcondo abat', 'advocate foreclosur', 'advocate rpi', 'advocate levi', 'advocate commercial exempt', 'advocate personal exempt', 'advocate ubt', 'advocate lien', 'advocate property valu'], 'dof parking request': ['dof parking payment issu', 'dof parking request statu', 'dof parking request copi', 'dof parking dmv clear', 'dof parking address upd', 'dof parking tax exempt'], 'public assembl': ['public assembly temporari', 'public assembl'], 'dhs advantage program inquiri': ['dhs advantage ten', 'dhs advantage third parti', 'dhs advantage landlord brok'], 'construct': ['general construct', 'construct'], 'electr': ['electr', 'electr'], 'unsanitary condit': ['unsanitary condit'], 'asbesto': ['asbesto', 'asbestos garbage nuis'], 'dirty condit': ['dirty condit', 'dirty condit'], 'snow': ['snow', 'snw', 'snow ic', 'snow remov'], 'ferry complaints inquiri': ['ferry inquiri', 'ferry permit', 'ferry complaint'], 'building facade complaints inquiri': ['facade insp safety pgm', 'facad']}\n"
     ]
    }
   ],
   "source": [
    "from nltk.corpus import stopwords\n",
    "from nltk.stem import LancasterStemmer\n",
    "\n",
    "stemmer = LancasterStemmer()\n",
    "# Initialize the Porter stemmer\n",
    "porter=PorterStemmer()\n",
    "stop_words = set(stopwords.words('english'))\n",
    "\n",
    "# Create a new dictionary to store the preprocessed keys and values\n",
    "comp_dict_stem = {}\n",
    "\n",
    "# Preprocess the keys and values of comp_dict_final\n",
    "for key, values in comp_dict_final.items():\n",
    "    # Convert the key to lowercase and remove punctuation\n",
    "    key_processed = re.sub('/', ' ', key)\n",
    "    key_processed = key_processed.lower().translate(str.maketrans('', '', string.punctuation))\n",
    "    # Stem the key using the Porter stemmer\n",
    "    stemmed_key = porter.stem(key_processed)\n",
    "    # Create an empty list to store the processed values\n",
    "    words = stemmed_key.split()\n",
    "    words_no_stopwords = [word for word in words if word.lower() not in stop_words]\n",
    "    stemmed_key_no_stopwords = ' '.join(words_no_stopwords)\n",
    "    processed_values = []\n",
    "    for value in values:\n",
    "#         # Replace forward slashes with spaces in the processed value\n",
    "#         value_processed = value.replace('/', ' ')\n",
    "#         value_processed = np.char.replace(value, '/', ' ')\n",
    "        value_processed = re.sub('/', ' ', value)\n",
    "        value_processed = re.sub(r'-', ' ', value_processed)\n",
    "        # Convert the value to lowercase and remove punctuation\n",
    "        value_processed = value_processed.lower().translate(str.maketrans('', '', string.punctuation))\n",
    "        # Stem the processed value using the Porter stemmer\n",
    "        stemmed_value = porter.stem(value_processed)\n",
    "        words = stemmed_value.split()\n",
    "        words_no_stopwords = [word.replace('noise','nois') for word in words if word.lower() not in stop_words]\n",
    "        stemmed_value_no_stopwords = ' '.join(words_no_stopwords)\n",
    "        processed_values.append(stemmed_value_no_stopwords)\n",
    "    # Add the stemmed key and processed values to the new dictionary\n",
    "    comp_dict_stem[stemmed_key_no_stopwords] = processed_values\n",
    "\n",
    "print(comp_dict_stem)"
   ]
  },
  {
   "cell_type": "code",
   "execution_count": 50,
   "id": "b3f9701f",
   "metadata": {},
   "outputs": [
    {
     "name": "stdout",
     "output_type": "stream",
     "text": [
      "taxi complaints inquiri\n",
      "litter basket complaints inquiri\n",
      "recycling basket complaint\n",
      "street sign complaint\n",
      "bus stop shelter complaint\n",
      "home delivered meal complaint\n",
      "street sweeping complaint\n",
      "dof property complaints inquiri\n",
      "ferry complaints inquiri\n",
      "building facade complaints inquiri\n"
     ]
    }
   ],
   "source": [
    "for keys in comp_dict_stem.keys():\n",
    "    if 'complaint' in keys:\n",
    "        print(keys)\n",
    "    elif 'service request' in keys:\n",
    "        print(keys)"
   ]
  },
  {
   "cell_type": "code",
   "execution_count": 51,
   "id": "0ada7d8d",
   "metadata": {},
   "outputs": [],
   "source": [
    "# Update the key from \"old_key\" to \"new_key\"\n",
    "comp_dict_stem[\"taxi\"] = comp_dict_stem.pop(\"taxi complaints inquiri\")\n",
    "comp_dict_stem[\"ferry\"] = comp_dict_stem.pop(\"ferry complaints inquiri\")\n",
    "comp_dict_stem[\"facade\"] = comp_dict_stem.pop(\"building facade complaints inquiri\")\n",
    "comp_dict_stem[\"litter basket\"] = comp_dict_stem.pop(\"litter basket complaints inquiri\")\n",
    "comp_dict_stem[\"street sign\"] = comp_dict_stem.pop(\"street sign complaint\")\n",
    "comp_dict_stem[\"recycling basket\"] = comp_dict_stem.pop(\"recycling basket complaint\")\n",
    "comp_dict_stem[\"bus stop shelter\"] = comp_dict_stem.pop(\"bus stop shelter complaint\")\n",
    "comp_dict_stem[\"home delivered meal\"] = comp_dict_stem.pop(\"home delivered meal complaint\")\n",
    "comp_dict_stem[\"street sweeping\"] = comp_dict_stem.pop(\"street sweeping complaint\")\n",
    "comp_dict_stem[\"dof property\"] = comp_dict_stem.pop(\"dof property complaints inquiri\")\n",
    "comp_dict_stem['fire alarm'] = comp_dict_stem.pop('fire alarm serive request')"
   ]
  },
  {
   "cell_type": "code",
   "execution_count": 52,
   "id": "cf4efaa4",
   "metadata": {},
   "outputs": [],
   "source": [
    "lemmatizer = WordNetLemmatizer() \n",
    "\n",
    "def stemSentence(sentence):    \n",
    "    token_words=word_tokenize(sentence)\n",
    "\n",
    "    stem_sentence=[]\n",
    "    for word in token_words:       \n",
    "        if porter.stem(lemmatizer.lemmatize(word)) in ['wast', 'trash', 'garbag', 'refus', 'recycl']:\n",
    "            stem_sentence.append('wast')\n",
    "            stem_sentence.append(\" \")\n",
    "            \n",
    "        elif porter.stem(lemmatizer.lemmatize(word)) in ['bldg', 'bldgmaint']:\n",
    "            stem_sentence.append('build')\n",
    "            stem_sentence.append(\" \")\n",
    "            \n",
    "        elif porter.stem(lemmatizer.lemmatize(word)) in ['vio']:\n",
    "            stem_sentence.append('violat')\n",
    "            stem_sentence.append(\" \")\n",
    "            \n",
    "        else:\n",
    "            stem_sentence.append(porter.stem(lemmatizer.lemmatize(word)))\n",
    "            stem_sentence.append(\" \")\n",
    "    \n",
    "    x = \"\".join(stem_sentence)\n",
    "    \n",
    "    edited_sentence = stem_sentence\n",
    "    \n",
    "    return \"\".join(edited_sentence)"
   ]
  },
  {
   "cell_type": "code",
   "execution_count": 53,
   "id": "010a1440",
   "metadata": {},
   "outputs": [
    {
     "name": "stdout",
     "output_type": "stream",
     "text": [
      "247\n",
      "247\n"
     ]
    }
   ],
   "source": [
    "print(len(complaints))\n",
    "complaints = [complaint for complaint in complaints if complaint not in remove]\n",
    "print(len(complaints))"
   ]
  },
  {
   "cell_type": "code",
   "execution_count": 20,
   "id": "df34b763",
   "metadata": {},
   "outputs": [],
   "source": [
    "# # loop through each complaint in the list\n",
    "# for i in range(len(complaints)):\n",
    "#     complaint = complaints[i]\n",
    "#     # loop through each key in the dictionary\n",
    "#     for key in comp_dict_final.keys():\n",
    "#         # if the complaint is in the list of values for this key\n",
    "#         if complaint in comp_dict_final[key]:\n",
    "#             # replace the complaint with the key\n",
    "#             complaints[i] = key\n",
    "#             # break out of the inner loop since we found a match\n",
    "#             break"
   ]
  },
  {
   "cell_type": "code",
   "execution_count": 21,
   "id": "dd5887f1",
   "metadata": {},
   "outputs": [],
   "source": [
    "# complaints = list(set(complaints))\n",
    "# len(complaints)"
   ]
  },
  {
   "cell_type": "code",
   "execution_count": 54,
   "id": "0f9668d9",
   "metadata": {},
   "outputs": [
    {
     "name": "stdout",
     "output_type": "stream",
     "text": [
      "['request larg bulki item collect', 'nois residenti', 'heat hot water', 'block driveway', 'nois street sidewalk', 'street condit', 'illeg park', 'street light condit', 'electron wast appoint', 'derelict vehicl', 'nois commerci', 'sanit condit', 'unsanitari condit', 'nois', 'abandon vehicl', 'sidewalk condit', 'graffiti', 'traffic signal condit', 'nois vehicl', 'derelict vehicl', 'new tree request', 'gener construct plumb', 'rodent', 'miss collect all materi', 'paint plaster']\n"
     ]
    }
   ],
   "source": [
    "#process complaints and raw complaints\n",
    "complaints_temp = []\n",
    "for item in complaints:\n",
    "    item = np.char.replace(item, '/', ' ')\n",
    "    symbols = \"!\\\"\\'#$%&()*+-./:;<=>?@[\\]^_`{|}~\\n\"\n",
    "    for i in symbols:\n",
    "        item = np.char.replace(item, i, '')\n",
    "    complaints_temp.append(str(item))\n",
    "\n",
    "comps_stem = []\n",
    "for s in range(len(complaints_temp)):\n",
    "    x = stemSentence(complaints_temp[s])\n",
    "    comps_stem.append(x)\n",
    "comps_stem = [elem.strip() for elem in comps_stem]\n",
    "print(comps_stem[0:25])"
   ]
  },
  {
   "cell_type": "code",
   "execution_count": 55,
   "id": "27e0f2b0",
   "metadata": {},
   "outputs": [],
   "source": [
    "# Assuming `comps_stem` is a list of stemmed text strings\n",
    "comps_stem_no_stopwords = []\n",
    "for comp_stem in comps_stem:\n",
    "    words = comp_stem.split()\n",
    "    words_no_stopwords = [word for word in words if word.lower() not in stop_words]\n",
    "    comp_stem_no_stopwords = ' '.join(words_no_stopwords)\n",
    "    comps_stem_no_stopwords.append(comp_stem_no_stopwords)"
   ]
  },
  {
   "cell_type": "code",
   "execution_count": 56,
   "id": "c154e41c",
   "metadata": {},
   "outputs": [
    {
     "name": "stdout",
     "output_type": "stream",
     "text": [
      "['request larg bulki item collect', 'nois residenti', 'heat hot water', 'block driveway', 'nois street sidewalk', 'street condit', 'illeg park', 'street light condit', 'electron wast appoint', 'derelict vehicl', 'nois commerci', 'sanit condit', 'unsanitari condit', 'nois', 'abandon vehicl', 'sidewalk condit', 'graffiti', 'traffic signal condit', 'nois vehicl', 'derelict vehicl', 'new tree request', 'gener construct plumb', 'rodent', 'miss collect materi', 'paint plaster']\n"
     ]
    }
   ],
   "source": [
    "print(comps_stem_no_stopwords[0:25])"
   ]
  },
  {
   "cell_type": "code",
   "execution_count": 57,
   "id": "1c4f8f77",
   "metadata": {},
   "outputs": [],
   "source": [
    "# loop through each complaint in the list\n",
    "for i in range(len(comps_stem_no_stopwords)):\n",
    "    complaint = comps_stem_no_stopwords[i]\n",
    "    # loop through each key in the dictionary\n",
    "    for key in comp_dict_stem.keys():\n",
    "        # if the complaint is in the list of values for this key\n",
    "        if complaint in comp_dict_stem[key]:\n",
    "            # replace the complaint with the key\n",
    "            comps_stem_no_stopwords[i] = key\n",
    "            # break out of the inner loop since we found a match\n",
    "            break"
   ]
  },
  {
   "cell_type": "code",
   "execution_count": 58,
   "id": "52e85852",
   "metadata": {},
   "outputs": [
    {
     "name": "stdout",
     "output_type": "stream",
     "text": [
      "247\n",
      "222\n"
     ]
    }
   ],
   "source": [
    "print(len(comps_stem_no_stopwords))\n",
    "comps_stem_no_stopwords = list(set(comps_stem_no_stopwords))\n",
    "print(len(comps_stem_no_stopwords))"
   ]
  },
  {
   "cell_type": "code",
   "execution_count": 59,
   "id": "07824aa4",
   "metadata": {},
   "outputs": [
    {
     "name": "stdout",
     "output_type": "stream",
     "text": [
      "['park ticket lookup ticket or plate number known', 'servic request statu gener', 'properti tax account assist and bill inform', 'bulk item dispos', 'heat or hot water complaint in a residenti build', 'nois from neighbor', 'block driveway', 'park ticket or camera violat statu', 'servic request statu', 'apart mainten complaint', 'vehicl block driveway complaint', 'find a tow vehicl plate number known', 'bulk item pick up appoint', 'birth certif order', 'miss wast , wast , or organ collect', 'citi worker or agenc complaint or compliment', 'heat or hot water complaint in entir residenti build', 'illeg park', 'tow vehicl', 'divis transfer', 'illeg park complaint', 'bulk item dispos inform', 'cfc and freon remov', 'bu and subway', 'heat or hot water complaint in apart']\n"
     ]
    }
   ],
   "source": [
    "#process complaints and raw complaints\n",
    "complaints_temp = []\n",
    "for item in raw_complaints:\n",
    "    item = np.char.replace(item, '/', ' ')\n",
    "    symbols = \"!\\\"\\'#$%&()*+-./:;<=>?@[\\]^_`{|}~\\n\"\n",
    "    for i in symbols:\n",
    "        item = np.char.replace(item, i, '')\n",
    "    complaints_temp.append(str(item))\n",
    "\n",
    "\n",
    "rawcomps_stem = []\n",
    "for s in range(len(complaints_temp)):\n",
    "    x = stemSentence(complaints_temp[s])\n",
    "    rawcomps_stem.append(x)\n",
    "rawcomps_stem = [elem.strip() for elem in rawcomps_stem]\n",
    "print(rawcomps_stem[0:25])"
   ]
  },
  {
   "cell_type": "code",
   "execution_count": 60,
   "id": "7d0d81de",
   "metadata": {},
   "outputs": [
    {
     "name": "stdout",
     "output_type": "stream",
     "text": [
      "['park ticket lookup ticket plate number known', 'servic request statu gener', 'properti tax account assist bill inform', 'bulk item dispos', 'heat hot water complaint residenti build', 'nois neighbor', 'block driveway', 'park ticket camera violat statu', 'servic request statu', 'apart mainten complaint', 'vehicl block driveway complaint', 'find tow vehicl plate number known', 'bulk item pick appoint', 'birth certif order', 'miss wast , wast , organ collect', 'citi worker agenc complaint compliment', 'heat hot water complaint entir residenti build', 'illeg park', 'tow vehicl', 'divis transfer', 'illeg park complaint', 'bulk item dispos inform', 'cfc freon remov', 'bu subway', 'heat hot water complaint apart']\n"
     ]
    }
   ],
   "source": [
    "rawcomps_stem_no_stopwords = []\n",
    "for comp_stem in rawcomps_stem:\n",
    "    words = comp_stem.split()\n",
    "    words_no_stopwords = [word for word in words if word.lower() not in stop_words]\n",
    "    comp_stem_no_stopwords = ' '.join(words_no_stopwords)\n",
    "    rawcomps_stem_no_stopwords.append(comp_stem_no_stopwords)\n",
    "print(rawcomps_stem_no_stopwords[0:25])"
   ]
  },
  {
   "cell_type": "code",
   "execution_count": 61,
   "id": "fe09aa4a",
   "metadata": {
    "scrolled": true
   },
   "outputs": [],
   "source": [
    "# for i in range(len(raw_complaints)):\n",
    "#     for key, values in comp_dict_final.items():\n",
    "#         if any(value in raw_complaints[i] for value in values):\n",
    "#             raw_complaints[i] = key\n",
    "#             break"
   ]
  },
  {
   "cell_type": "code",
   "execution_count": 62,
   "id": "14f50b46",
   "metadata": {},
   "outputs": [],
   "source": [
    "# print(len(raw_complaints))\n",
    "# raw_complaints = list(set(raw_complaints))\n",
    "# print(len(raw_complaints))"
   ]
  },
  {
   "cell_type": "code",
   "execution_count": 63,
   "id": "75ba9b43",
   "metadata": {},
   "outputs": [],
   "source": [
    "#try with the stemmed and cleaned complaints\n",
    "for i in range(len(rawcomps_stem_no_stopwords)):\n",
    "    for key, values in comp_dict_stem.items():\n",
    "        if any(value in rawcomps_stem_no_stopwords[i] for value in values):\n",
    "            rawcomps_stem_no_stopwords[i] = key\n",
    "            break"
   ]
  },
  {
   "cell_type": "code",
   "execution_count": 64,
   "id": "db89cd25",
   "metadata": {},
   "outputs": [
    {
     "name": "stdout",
     "output_type": "stream",
     "text": [
      "5423\n",
      "5423\n"
     ]
    }
   ],
   "source": [
    "print(len(rawcomps_stem_no_stopwords))\n",
    "rawcomps_stem = list(set(rawcomps_stem_no_stopwords))\n",
    "print(len(rawcomps_stem_no_stopwords))"
   ]
  },
  {
   "cell_type": "code",
   "execution_count": 65,
   "id": "fe69b7ac",
   "metadata": {},
   "outputs": [],
   "source": [
    "import re\n",
    "\n",
    "# result_dict = {}\n",
    "# for comp in complaints:\n",
    "#     for raw_comp in raw_complaints:\n",
    "#         if re.search(r'\\b{}\\b'.format(comp), raw_comp):\n",
    "#             if comp in result_dict:\n",
    "#                 result_dict[comp].append(raw_comp)\n",
    "#             else:\n",
    "#                 result_dict[comp] = [raw_comp]\n",
    "# result_dict"
   ]
  },
  {
   "cell_type": "code",
   "execution_count": 66,
   "id": "c8b421b8",
   "metadata": {},
   "outputs": [],
   "source": [
    "# result_dict_stem = {}\n",
    "# for comp in comps_stem:\n",
    "#     for raw_comp in rawcomps_stem:\n",
    "#         if re.search(r'\\b{}\\b'.format(comp), raw_comp):\n",
    "#             if comp in result_dict_stem:\n",
    "#                 result_dict_stem[comp].append(raw_comp)\n",
    "#             else:\n",
    "#                 result_dict_stem[comp] = [raw_comp]\n",
    "# result_dict_stem"
   ]
  },
  {
   "cell_type": "code",
   "execution_count": 67,
   "id": "6f3e7fe6",
   "metadata": {},
   "outputs": [],
   "source": [
    "# result_dict_stem_no_stopwords = {}\n",
    "\n",
    "# for comp in comps_stem_no_stopwords:\n",
    "#     comp_words = comp.split()  # Split the comp text into individual words\n",
    "#     for raw_comp in rawcomps_stem_no_stopwords:\n",
    "#         # Check if at least one word in comp_words is in the raw_comp string\n",
    "#         if any(re.search(r'\\b{}\\b'.format(comp_word), raw_comp) for comp_word in comp_words):\n",
    "#             if comp in result_dict_stem_no_stopwords:\n",
    "#                 result_dict_stem_no_stopwords[comp].append(raw_comp)\n",
    "#             else:\n",
    "#                 result_dict_stem_no_stopwords[comp] = [raw_comp]\n",
    "                \n",
    "# result_dict_stem_no_stopwords"
   ]
  },
  {
   "cell_type": "code",
   "execution_count": 68,
   "id": "ee03eab9",
   "metadata": {},
   "outputs": [
    {
     "name": "stdout",
     "output_type": "stream",
     "text": [
      "['mobil food vendor', 'illeg park', 'disorderli youth', 'hous option', 'public payphon complaint', 'consum complaint', 'overgrown tree branch', 'illeg firework', 'advoc', 'singl occup bathroom', 'vacant lot', 'sidewalk condit', 'cool tower', 'floor stair', 'anim abus', 'plumb', 'squeege', 'dpr intern', 'hous low incom senior', 'food poison', 'dirti condit', 'advocateproperti valu', 'special oper', 'rodent', 'bottl water', 'electron wast appoint', 'smoke', 'taxpay advoc inquiri', 'tan', 'damag tree', 'dof park tax exempt', 'drie', 'nois', 'question', 'paint plaster', 'hazard materi', 'radioact materi', 'lifeguard', 'dof properti payment issu', 'facade', 'bridg condit', 'peel paint', 'nonresidenti heat', 'industri wast', 'sweep missedinadequ', 'poison ivi', 'calori label', 'street sidewalk road condit', 'construct safeti enforc', 'mosquito', 'unsanitari condit', 'anim facil permit', 'stand water', 'dof properti rpie issu', 'alzheim care', 'home care provid complaint', 'build marshal offic', 'bike roller skate chronic', 'food establish', 'foam ban enforc', 'sanit condit', 'advocateprop refund credit', 'scaffold safeti', 'applianc', 'ferri inquiri', 'anim park', 'beach pool sauna complaint', 'dof park payment issu', 'stall site', 'nois hous worship', 'dca doh new licens applic request', 'boiler', 'new tree request', 'bu stop shelter complaint', 'sustain enforc', 'dead die tree', 'indoor sewag', 'water system', 'water conserv', 'mainten facil', 'dof park request statu', 'dof properti updat account', 'broken park meter', 'overflow litter basket', 'taxi compliment', 'advocatebusi tax', 'case manag agenc complaint', 'harbor bee wasp', 'construct lead dust', 'fire alarm', 'highway condit', 'bu stop shelter placement', 'request xma tree collect', 'financi action task forc', 'dept investig', 'public toilet', 'fhv license complaint', 'sewer', 'crane derrick', 'borough offic', 'emerg respons team ert', 'violat park rule', 'urin public', 'tattoo', 'special natur area district snad', 'adoptabasket', 'school mainten', 'linknyc', 'construct', 'literatur request', 'home deliv meal complaint', 'plant', 'unsanitari anim pvt properti', 'employe behavior', 'water qualiti', 'asbesto', 'litter basket', 'gener construct plumb', 'nonemerg polic matter', 'panhandl', 'oem literatur request', 'heat hot water', 'vend', 'advocatescri drie', 'srgovg', 'home deliv meal miss deliveri', 'traffic signal condit', 'air qualiti', 'unleash dog', 'unsanitari anim facil', 'drink', 'benefit card replac', 'dep highway condit', 'execut inspect', 'dof park dmv clearanc', 'build condit', 'general inquiri', 'lead', 'traffic', 'found properti', 'dof properti request copi', 'window guard', 'advocatecoopcondo abat', 'advocateforeclosur', 'illeg anim sold', 'day care', 'best site safeti', 'mold', 'homeless', 'sweep miss', 'unlicens dog', 'scrie', 'miss collect', 'pet shop', 'ferri complaint', 'taxi license complaint', 'safeti', 'form', 'build use', 'enforc', 'dof properti reduct issu', 'special project inspect team spit', 'srde', 'bereav support group', 'post advertis', 'abandon vehicl', 'drink water', 'dof properti owner issu', 'forens engin', 'advocateprop class incorrect', 'advoc rpie', 'dispatch taxi compliment', 'dsni spillag', 'illeg tree damag', 'dof properti properti valu', 'bike rack condit', 'snow', 'xray machin equip', 'graffiti', 'outsid build', 'advocatecommerci exempt', 'request chang asp', 'request larg bulki item collect', 'block driveway', 'door window', 'lost properti', 'drug activ', 'elder abus', 'advocateperson exempt', 'ferri permit', 'electron wast', 'miss collect materi', 'electr', 'intern code', 'overflow wast basket', 'miscellan categori', 'dispatch taxi complaint', 'animalabus', 'street sign', 'investig disciplin iad', 'transport provid complaint', 'wast enforc', 'dof park request copi', 'elev', 'qualiti life', 'tran fat', 'indoor air qualiti', 'hpd literatur request', 'unsanitari pigeon condit', 'illeg anim kept pet', 'advoc lien', 'tunnel condit', 'taxi', 'water leak', 'municip park facil', 'derelict vehicl', 'derelict bicycl', 'sweep inadequ', 'collect truck nois', 'hire vehicl complaint', 'senior center complaint', 'hire vehicl report']\n"
     ]
    }
   ],
   "source": [
    "print(comps_stem_no_stopwords)"
   ]
  },
  {
   "cell_type": "code",
   "execution_count": 69,
   "id": "fc30d42a",
   "metadata": {},
   "outputs": [
    {
     "data": {
      "text/plain": [
       "222"
      ]
     },
     "execution_count": 69,
     "metadata": {},
     "output_type": "execute_result"
    }
   ],
   "source": [
    "len(comps_stem_no_stopwords)"
   ]
  },
  {
   "cell_type": "code",
   "execution_count": 70,
   "id": "e9d126d5",
   "metadata": {},
   "outputs": [
    {
     "data": {
      "text/plain": [
       "247"
      ]
     },
     "execution_count": 70,
     "metadata": {},
     "output_type": "execute_result"
    }
   ],
   "source": [
    "len(complaints)"
   ]
  },
  {
   "cell_type": "code",
   "execution_count": null,
   "id": "c1606b44",
   "metadata": {},
   "outputs": [],
   "source": [
    "result_dict_stem_no_stopwords = {}\n",
    "\n",
    "for comp_value in comps_stem_no_stopwords:\n",
    "    if len(comp_value.split()) == 1: # if the comp_value has only one word\n",
    "        for raw_comp in rawcomps_stem_no_stopwords:\n",
    "            if re.search(r'\\b{}\\b'.format(comp_value), raw_comp):\n",
    "                if comp_value in result_dict_stem_no_stopwords:\n",
    "                    result_dict_stem_no_stopwords[comp_value].append(raw_comp)\n",
    "                else:\n",
    "                    result_dict_stem_no_stopwords[comp_value] = [raw_comp]\n",
    "    else: # if the comp_value has more than one word\n",
    "        comp_words = comp_value.split()\n",
    "        for raw_comp in rawcomps_stem_no_stopwords:\n",
    "            raw_comp_words = raw_comp.split()\n",
    "            if sum([1 for w in comp_words if w in raw_comp_words]) >= 2:\n",
    "                if comp_value in result_dict_stem_no_stopwords:\n",
    "                    result_dict_stem_no_stopwords[comp_value].append(raw_comp)\n",
    "                else:\n",
    "                    result_dict_stem_no_stopwords[comp_value] = [raw_comp]"
   ]
  },
  {
   "cell_type": "code",
   "execution_count": null,
   "id": "330b200f",
   "metadata": {},
   "outputs": [],
   "source": [
    "result_dict_stem_no_stopwords"
   ]
  },
  {
   "cell_type": "code",
   "execution_count": null,
   "id": "c4eafd1f",
   "metadata": {},
   "outputs": [],
   "source": [
    "unassigned_complaints = [raw_comp for raw_comp in raw_complaints if all(raw_comp not in values for values in result_dict.values())]\n",
    "\n",
    "print(len(unassigned_complaints))"
   ]
  },
  {
   "cell_type": "code",
   "execution_count": null,
   "id": "9ad7a3a4",
   "metadata": {},
   "outputs": [],
   "source": [
    "# Find elements in raw_complaints that were not assigned as values in result_dict\n",
    "unassigned_complaints_stem = [raw_comp for raw_comp in rawcomps_stem if all(raw_comp not in values for values in result_dict_stem.values())]\n",
    "\n",
    "print(len(unassigned_complaints_stem))"
   ]
  },
  {
   "cell_type": "code",
   "execution_count": null,
   "id": "ebac0093",
   "metadata": {},
   "outputs": [],
   "source": [
    "unassigned_complaints"
   ]
  },
  {
   "cell_type": "code",
   "execution_count": null,
   "id": "08c59cd8",
   "metadata": {},
   "outputs": [],
   "source": [
    "unassigned_complaints_stem"
   ]
  },
  {
   "cell_type": "code",
   "execution_count": null,
   "id": "b8e8f6aa",
   "metadata": {},
   "outputs": [],
   "source": [
    "values_to_remove_drinking = ['request lead test kit for drinking water','building drinking water tank inspections - reporting',\n",
    "                    'illness caused by drinking water','drinking water','lead in drinking water',\n",
    "                    'reduce risk of lead in drinking water','drinking water information']\n",
    "values_to_remove_plant = ['wastewater treatment plant complaint - priority','wastewater treatment plant complaint']\n",
    "# Remove the values for key 'drinking'\n",
    "result_dict['drinking'] = [value for value in result_dict['drinking'] if value not in values_to_remove_drinking]\n",
    "result_dict['plant'] = [value for value in result_dict['plant'] if value not in values_to_remove_plant]\n",
    "# Add the values for key 'sewer'\n",
    "result_dict['sewer'].extend(values_to_remove_plant)"
   ]
  },
  {
   "cell_type": "code",
   "execution_count": null,
   "id": "4a4e2e75",
   "metadata": {},
   "outputs": [],
   "source": [
    "len(list(result_dict.values()))"
   ]
  },
  {
   "cell_type": "code",
   "execution_count": null,
   "id": "a8746a2c",
   "metadata": {},
   "outputs": [],
   "source": []
  }
 ],
 "metadata": {
  "kernelspec": {
   "display_name": "Python 3 (ipykernel)",
   "language": "python",
   "name": "python3"
  },
  "language_info": {
   "codemirror_mode": {
    "name": "ipython",
    "version": 3
   },
   "file_extension": ".py",
   "mimetype": "text/x-python",
   "name": "python",
   "nbconvert_exporter": "python",
   "pygments_lexer": "ipython3",
   "version": "3.10.6"
  }
 },
 "nbformat": 4,
 "nbformat_minor": 5
}
